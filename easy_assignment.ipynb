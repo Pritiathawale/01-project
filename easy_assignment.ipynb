{
  "nbformat": 4,
  "nbformat_minor": 0,
  "metadata": {
    "colab": {
      "provenance": [],
      "authorship_tag": "ABX9TyPgE3iZ52JH5WhkoiDAiSDo",
      "include_colab_link": true
    },
    "kernelspec": {
      "name": "python3",
      "display_name": "Python 3"
    },
    "language_info": {
      "name": "python"
    }
  },
  "cells": [
    {
      "cell_type": "markdown",
      "metadata": {
        "id": "view-in-github",
        "colab_type": "text"
      },
      "source": [
        "<a href=\"https://colab.research.google.com/github/Pritiathawale/01-project/blob/main/easy_assignment.ipynb\" target=\"_parent\"><img src=\"https://colab.research.google.com/assets/colab-badge.svg\" alt=\"Open In Colab\"/></a>"
      ]
    },
    {
      "cell_type": "code",
      "execution_count": 1,
      "metadata": {
        "colab": {
          "base_uri": "https://localhost:8080/"
        },
        "id": "NLNjo4hi8ETJ",
        "outputId": "43917472-b39f-4496-c6c9-92cf6d515cf6"
      },
      "outputs": [
        {
          "output_type": "execute_result",
          "data": {
            "text/plain": [
              "0"
            ]
          },
          "metadata": {},
          "execution_count": 1
        }
      ],
      "source": [
        "(8 - (3 * 2)) -( 1 + 1)"
      ]
    },
    {
      "cell_type": "code",
      "source": [
        "P =1500\n",
        "R = 9.5\n",
        "T = 20\n",
        "\n",
        "SI = P * R * T\n",
        "print(SI)\n",
        "\n"
      ],
      "metadata": {
        "colab": {
          "base_uri": "https://localhost:8080/"
        },
        "id": "-r3I6N6R9cZM",
        "outputId": "fd11656f-8d6a-4e66-81ab-a263e8063a05"
      },
      "execution_count": 3,
      "outputs": [
        {
          "output_type": "stream",
          "name": "stdout",
          "text": [
            "285000.0\n"
          ]
        }
      ]
    },
    {
      "cell_type": "code",
      "source": [
        "P = 1500\n",
        "r = 0.043\n",
        "n = 4\n",
        "t = 6\n",
        "\n",
        "V = P*(1+r/n)*n*t\n",
        "print(V)"
      ],
      "metadata": {
        "colab": {
          "base_uri": "https://localhost:8080/"
        },
        "id": "SGLri5Ma-lTu",
        "outputId": "07944383-50d4-41a5-934f-eae7c4b46c35"
      },
      "execution_count": 7,
      "outputs": [
        {
          "output_type": "stream",
          "name": "stdout",
          "text": [
            "36387.0\n"
          ]
        }
      ]
    },
    {
      "cell_type": "code",
      "source": [
        "C = 253\n",
        "F = ( C * 9 / 5 ) + 32\n",
        "print(F)\n"
      ],
      "metadata": {
        "colab": {
          "base_uri": "https://localhost:8080/"
        },
        "id": "TpBvUgi6--oZ",
        "outputId": "8c8dc226-2f95-4717-af80-87eb7f305947"
      },
      "execution_count": 8,
      "outputs": [
        {
          "output_type": "stream",
          "name": "stdout",
          "text": [
            "487.4\n"
          ]
        }
      ]
    }
  ]
}