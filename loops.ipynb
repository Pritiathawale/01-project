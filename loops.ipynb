{
  "nbformat": 4,
  "nbformat_minor": 0,
  "metadata": {
    "colab": {
      "provenance": [],
      "authorship_tag": "ABX9TyMg7hMLCmaQLk34olAU4Vek",
      "include_colab_link": true
    },
    "kernelspec": {
      "name": "python3",
      "display_name": "Python 3"
    },
    "language_info": {
      "name": "python"
    }
  },
  "cells": [
    {
      "cell_type": "markdown",
      "metadata": {
        "id": "view-in-github",
        "colab_type": "text"
      },
      "source": [
        "<a href=\"https://colab.research.google.com/github/Pritiathawale/01-project/blob/main/loops.ipynb\" target=\"_parent\"><img src=\"https://colab.research.google.com/assets/colab-badge.svg\" alt=\"Open In Colab\"/></a>"
      ]
    },
    {
      "cell_type": "code",
      "execution_count": 4,
      "metadata": {
        "colab": {
          "base_uri": "https://localhost:8080/"
        },
        "id": "dvqgNctW7Iz5",
        "outputId": "cd22db89-e855-48df-dd5e-b0502d50c2da"
      },
      "outputs": [
        {
          "output_type": "stream",
          "name": "stdout",
          "text": [
            "20  \n",
            "18  \n",
            "16  \n",
            "14  \n",
            "12  \n",
            "10  \n",
            "8  \n",
            "6  \n",
            "4  \n",
            "2  \n"
          ]
        }
      ],
      "source": [
        "even=[]\n",
        "for x in range(2,21) :\n",
        "  if x % 2 == 0 :\n",
        "    even.append(x)\n",
        "\n",
        "even.reverse()\n",
        "\n",
        "for num in even :\n",
        "  print(num,\" \")"
      ]
    },
    {
      "cell_type": "code",
      "source": [
        "for num in range(20,41,5):\n",
        "  print(num, end=\" \")"
      ],
      "metadata": {
        "colab": {
          "base_uri": "https://localhost:8080/"
        },
        "id": "c9BNGnUc8-xw",
        "outputId": "77810344-dbce-43e6-cc23-fbc8d5a3b834"
      },
      "execution_count": 6,
      "outputs": [
        {
          "output_type": "stream",
          "name": "stdout",
          "text": [
            "20 25 30 35 40 "
          ]
        }
      ]
    },
    {
      "cell_type": "code",
      "source": [
        "for num in range(1, 6):\n",
        "        cube = num ** 3\n",
        "        print(cube, end=\" \")"
      ],
      "metadata": {
        "colab": {
          "base_uri": "https://localhost:8080/"
        },
        "id": "P1Ya8wL89cb1",
        "outputId": "9262dba5-5733-434c-8999-55080e62a0a0"
      },
      "execution_count": 7,
      "outputs": [
        {
          "output_type": "stream",
          "name": "stdout",
          "text": [
            "1 8 27 64 125 "
          ]
        }
      ]
    }
  ]
}