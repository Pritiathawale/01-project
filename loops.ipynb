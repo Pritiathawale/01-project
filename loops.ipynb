{
  "nbformat": 4,
  "nbformat_minor": 0,
  "metadata": {
    "colab": {
      "provenance": [],
      "authorship_tag": "ABX9TyN+QqLAnJ89Go14pWOJPBOR",
      "include_colab_link": true
    },
    "kernelspec": {
      "name": "python3",
      "display_name": "Python 3"
    },
    "language_info": {
      "name": "python"
    }
  },
  "cells": [
    {
      "cell_type": "markdown",
      "metadata": {
        "id": "view-in-github",
        "colab_type": "text"
      },
      "source": [
        "<a href=\"https://colab.research.google.com/github/Pritiathawale/01-project/blob/main/loops.ipynb\" target=\"_parent\"><img src=\"https://colab.research.google.com/assets/colab-badge.svg\" alt=\"Open In Colab\"/></a>"
      ]
    },
    {
      "cell_type": "code",
      "execution_count": null,
      "metadata": {
        "colab": {
          "base_uri": "https://localhost:8080/"
        },
        "id": "dvqgNctW7Iz5",
        "outputId": "cd22db89-e855-48df-dd5e-b0502d50c2da"
      },
      "outputs": [
        {
          "output_type": "stream",
          "name": "stdout",
          "text": [
            "20  \n",
            "18  \n",
            "16  \n",
            "14  \n",
            "12  \n",
            "10  \n",
            "8  \n",
            "6  \n",
            "4  \n",
            "2  \n"
          ]
        }
      ],
      "source": [
        "even=[]\n",
        "for x in range(2,21) :\n",
        "  if x % 2 == 0 :\n",
        "    even.append(x)\n",
        "\n",
        "even.reverse()\n",
        "\n",
        "for num in even :\n",
        "  print(num,\" \")"
      ]
    },
    {
      "cell_type": "code",
      "source": [
        "for num in range(20,41,5):\n",
        "  print(num, end=\" \")"
      ],
      "metadata": {
        "colab": {
          "base_uri": "https://localhost:8080/"
        },
        "id": "c9BNGnUc8-xw",
        "outputId": "77810344-dbce-43e6-cc23-fbc8d5a3b834"
      },
      "execution_count": null,
      "outputs": [
        {
          "output_type": "stream",
          "name": "stdout",
          "text": [
            "20 25 30 35 40 "
          ]
        }
      ]
    },
    {
      "cell_type": "code",
      "source": [
        "n=20\n",
        "while n<=40:\n",
        "  print(n,end=\" \")\n",
        "  n=n+5\n"
      ],
      "metadata": {
        "id": "k5Ri4THhICLP"
      },
      "execution_count": null,
      "outputs": []
    },
    {
      "cell_type": "code",
      "source": [
        "for num in range(1, 6):\n",
        "        cube = num ** 3\n",
        "        print(cube, end=\" \")"
      ],
      "metadata": {
        "colab": {
          "base_uri": "https://localhost:8080/"
        },
        "id": "P1Ya8wL89cb1",
        "outputId": "9262dba5-5733-434c-8999-55080e62a0a0"
      },
      "execution_count": null,
      "outputs": [
        {
          "output_type": "stream",
          "name": "stdout",
          "text": [
            "1 8 27 64 125 "
          ]
        }
      ]
    },
    {
      "cell_type": "code",
      "source": [
        "n=1\n",
        "while n<=5:\n",
        "  print(\"cube \",n,\"is \",n*n*n)\n",
        "  n+=1\n"
      ],
      "metadata": {
        "id": "vy6Z2o7YHzXj"
      },
      "execution_count": null,
      "outputs": []
    },
    {
      "cell_type": "code",
      "source": [
        "n=int(input(\"enter number :\"))\n",
        "fact=1\n",
        "for i in range(1,(n+1)):\n",
        "  fact=fact*iter\n",
        "print(fact)\n"
      ],
      "metadata": {
        "colab": {
          "base_uri": "https://localhost:8080/"
        },
        "id": "RtFLj0QoIlqP",
        "outputId": "27507895-5267-4fb8-938a-9749a60637c2"
      },
      "execution_count": 3,
      "outputs": [
        {
          "output_type": "stream",
          "name": "stdout",
          "text": [
            "enter number :4\n",
            "24\n"
          ]
        }
      ]
    },
    {
      "cell_type": "code",
      "source": [
        "n=int(input(\"enter number :\"))\n",
        "fact=1\n",
        "while n>=1:\n",
        "  fact=n*fact\n",
        "  n=n-1\n",
        "print(fact)"
      ],
      "metadata": {
        "id": "_nywUhHQJC1N"
      },
      "execution_count": null,
      "outputs": []
    },
    {
      "cell_type": "code",
      "source": [
        "sum=0\n",
        "while(10>0):\n",
        "  no=int(input(\"enter number :\"))\n",
        "  if no==0:\n",
        "    break\n",
        "  sum=sum+no\n",
        "print(sum)"
      ],
      "metadata": {
        "colab": {
          "base_uri": "https://localhost:8080/"
        },
        "id": "TdYvmhxGJh0s",
        "outputId": "f4f6d570-adad-412b-c005-da4484f65d1a"
      },
      "execution_count": 7,
      "outputs": [
        {
          "output_type": "stream",
          "name": "stdout",
          "text": [
            "0\n"
          ]
        }
      ]
    },
    {
      "cell_type": "markdown",
      "source": [
        "Missioneries :-good people\n",
        "missionaries_"
      ],
      "metadata": {
        "id": "mSJ8JBDQSWC1"
      }
    },
    {
      "cell_type": "code",
      "source": [
        "print('\\U0001F604')"
      ],
      "metadata": {
        "colab": {
          "base_uri": "https://localhost:8080/"
        },
        "id": "g_gDtKwndsE7",
        "outputId": "69858058-557a-4efc-f038-ee7a14d54cc5"
      },
      "execution_count": 12,
      "outputs": [
        {
          "output_type": "stream",
          "name": "stdout",
          "text": [
            "😄\n"
          ]
        }
      ]
    }
  ]
}