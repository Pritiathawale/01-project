{
  "nbformat": 4,
  "nbformat_minor": 0,
  "metadata": {
    "colab": {
      "provenance": [],
      "authorship_tag": "ABX9TyO41g3R0p/1oTkOw1xsQ1RS",
      "include_colab_link": true
    },
    "kernelspec": {
      "name": "python3",
      "display_name": "Python 3"
    },
    "language_info": {
      "name": "python"
    }
  },
  "cells": [
    {
      "cell_type": "markdown",
      "metadata": {
        "id": "view-in-github",
        "colab_type": "text"
      },
      "source": [
        "<a href=\"https://colab.research.google.com/github/Pritiathawale/01-project/blob/main/Hard_level.ipynb\" target=\"_parent\"><img src=\"https://colab.research.google.com/assets/colab-badge.svg\" alt=\"Open In Colab\"/></a>"
      ]
    },
    {
      "cell_type": "code",
      "source": [
        "a=input(\"Enter value of your favourite IPL Team : \")\n",
        "b=int(input(\"Enter any one Number From 1-10 :\"))\n",
        "\n",
        "print(a*b)"
      ],
      "metadata": {
        "colab": {
          "base_uri": "https://localhost:8080/"
        },
        "id": "ieJMbcFaoLE9",
        "outputId": "2dd9623b-12e1-4d27-8c3f-563902448b5f"
      },
      "execution_count": 2,
      "outputs": [
        {
          "output_type": "stream",
          "name": "stdout",
          "text": [
            "Enter value of your favourite IPL Team : RCB\n",
            "Enter Number From 1-10 :4\n",
            "RCBRCBRCBRCB\n"
          ]
        }
      ]
    },
    {
      "cell_type": "code",
      "source": [
        "height=int(input(\"Enter Your height :\"))\n",
        "weight=int(input(\"Enter Your weight :\"))\n",
        "age=int(input(\"Enter Your age :\"))\n",
        "number=int(input(\"Enter any one Number From 1-10 :\"))\n",
        "\n",
        "print(\"True Division\")\n",
        "print(\"Height \", height/number)\n",
        "print(\"Weight \",weight/number)\n",
        "print(\"age \", age/number)\n",
        "\n",
        "print(\"Floor Division\")\n",
        "print(\"Height \",height//number)\n",
        "print(\"Weight \",weight//number)\n",
        "print(\"age \",age//number)\n",
        "\n",
        "print(\"Exponentiation\")\n",
        "print(\"Height \",height ** number)\n",
        "print(\"Weight \",weight ** number)\n",
        "print(\"age \",age ** number)\n"
      ],
      "metadata": {
        "colab": {
          "base_uri": "https://localhost:8080/"
        },
        "id": "ztw27iYcofPE",
        "outputId": "f734b57f-879a-4672-b636-4c8583865999"
      },
      "execution_count": 8,
      "outputs": [
        {
          "output_type": "stream",
          "name": "stdout",
          "text": [
            "Enter Your height :35\n",
            "Enter Your weight :30\n",
            "Enter Your age :19\n",
            "Enter any one Number From 1-10 :5\n",
            "True Division\n",
            "Height  7.0\n",
            "Weight  6.0\n",
            "age  3.8\n",
            "Floor Division\n",
            "Height  7\n",
            "Weight  6\n",
            "age  3\n",
            "Exponentiation\n",
            "Height  52521875\n",
            "Weight  24300000\n",
            "age  2476099\n"
          ]
        }
      ]
    }
  ]
}