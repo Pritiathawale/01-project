{
  "nbformat": 4,
  "nbformat_minor": 0,
  "metadata": {
    "colab": {
      "provenance": [],
      "authorship_tag": "ABX9TyOlhuT7k9Kk6IBM5fdIVB2Y",
      "include_colab_link": true
    },
    "kernelspec": {
      "name": "python3",
      "display_name": "Python 3"
    },
    "language_info": {
      "name": "python"
    }
  },
  "cells": [
    {
      "cell_type": "markdown",
      "metadata": {
        "id": "view-in-github",
        "colab_type": "text"
      },
      "source": [
        "<a href=\"https://colab.research.google.com/github/Pritiathawale/01-project/blob/main/flow_control.ipynb\" target=\"_parent\"><img src=\"https://colab.research.google.com/assets/colab-badge.svg\" alt=\"Open In Colab\"/></a>"
      ]
    },
    {
      "cell_type": "markdown",
      "source": [
        "//Easy"
      ],
      "metadata": {
        "id": "PJNgEAbQxSKU"
      }
    },
    {
      "cell_type": "code",
      "execution_count": null,
      "metadata": {
        "colab": {
          "base_uri": "https://localhost:8080/"
        },
        "id": "5iY5TJR4wwJ0",
        "outputId": "05ad7899-8b7b-4b2a-865c-b7b2a726d13d"
      },
      "outputs": [
        {
          "output_type": "stream",
          "name": "stdout",
          "text": [
            "True\n"
          ]
        }
      ],
      "source": [
        "print(True and True)\n"
      ]
    },
    {
      "cell_type": "code",
      "source": [
        "print(( 1 > 2 ) and ( 55 < 54))"
      ],
      "metadata": {
        "colab": {
          "base_uri": "https://localhost:8080/"
        },
        "id": "68h5QQJCxhtw",
        "outputId": "9a064ccf-62a2-4b15-b5bd-598991c5c3c9"
      },
      "execution_count": null,
      "outputs": [
        {
          "output_type": "stream",
          "name": "stdout",
          "text": [
            "False\n"
          ]
        }
      ]
    },
    {
      "cell_type": "code",
      "source": [
        "print(( 55 / 2 ) and True)"
      ],
      "metadata": {
        "colab": {
          "base_uri": "https://localhost:8080/"
        },
        "id": "lSfnzXnC56gz",
        "outputId": "c40d19f9-6db4-4e78-85bd-14a287376d90"
      },
      "execution_count": null,
      "outputs": [
        {
          "output_type": "stream",
          "name": "stdout",
          "text": [
            "True\n"
          ]
        }
      ]
    },
    {
      "cell_type": "code",
      "source": [
        "print(not( 10 > 5 ))"
      ],
      "metadata": {
        "colab": {
          "base_uri": "https://localhost:8080/"
        },
        "id": "FcfvvqDS6I5A",
        "outputId": "595d1845-c56e-4519-c328-f6003f8557a2"
      },
      "execution_count": null,
      "outputs": [
        {
          "output_type": "stream",
          "name": "stdout",
          "text": [
            "False\n"
          ]
        }
      ]
    },
    {
      "cell_type": "markdown",
      "source": [],
      "metadata": {
        "id": "tI5d61ya6VDC"
      }
    },
    {
      "cell_type": "code",
      "source": [
        "net_worth=int(input(\"Enter the net worth of Mark Zuckerberg : \"))\n",
        "\n",
        "if(net_worth == 54500000000):\n",
        "  print(\"That's 54.5 billion!\")\n",
        "elif(net_worth < 54500000000):\n",
        "  print(\"That's not much!\")\n",
        "elif(net_worth > 54500000000):\n",
        "  print(\"I'll make more when I graduate\")"
      ],
      "metadata": {
        "colab": {
          "base_uri": "https://localhost:8080/"
        },
        "id": "P7igw3cX6fwI",
        "outputId": "7b71a2ec-966f-4dc9-eebb-9b2c485e9784"
      },
      "execution_count": null,
      "outputs": [
        {
          "output_type": "stream",
          "name": "stdout",
          "text": [
            "Enter the net worth of Mark Zuckerberg : 545000000\n",
            "That's not much!\n"
          ]
        }
      ]
    },
    {
      "cell_type": "code",
      "source": [
        "bike_price=int(input(\"Enter the Bike Cost Price :\"))\n",
        "total=0\n",
        "\n",
        "if(bike_price > 100000):\n",
        "  total = bike_price + (bike_price* (15/100))\n",
        "elif(bike_price > 50000 and bike_price <= 100000 ):\n",
        "  total = bike_price + (bike_price* (10/100))\n",
        "elif(bike_price <= 50000 ):\n",
        "  total = bike_price + (bike_price* (5/100))\n",
        "print(total)\n"
      ],
      "metadata": {
        "colab": {
          "base_uri": "https://localhost:8080/"
        },
        "id": "5jeY94zk6W6y",
        "outputId": "9d64ad9d-57e8-4c29-ae40-c03462a85d8a"
      },
      "execution_count": null,
      "outputs": [
        {
          "output_type": "stream",
          "name": "stdout",
          "text": [
            "Enter the Bike Cost Price :5000\n",
            "5250.0\n"
          ]
        }
      ]
    },
    {
      "cell_type": "code",
      "source": [
        "held_class=int(input(\"Number of classes held\"))\n",
        "attended_class=int(input(\"Number of classes attended.\"))\n",
        "\n",
        "percentage=(attended_class/held_class)*100\n",
        "print(percentage)\n",
        "\n",
        "if(percentage > 75):\n",
        "   print(\"You are eligibel for exam\")\n",
        "else:\n",
        "    print(\"You are Not eligibel for exam\")\n"
      ],
      "metadata": {
        "colab": {
          "base_uri": "https://localhost:8080/"
        },
        "id": "7luGNRRL9jVV",
        "outputId": "592977b2-c4ae-4ce7-d77c-2d7a4a701144"
      },
      "execution_count": null,
      "outputs": [
        {
          "output_type": "stream",
          "name": "stdout",
          "text": [
            "Number of classes held90\n",
            "Number of classes attended.68\n",
            "75.55555555555556\n",
            "You are eligibel for exam\n"
          ]
        }
      ]
    },
    {
      "cell_type": "markdown",
      "source": [
        "//Medium"
      ],
      "metadata": {
        "id": "Cgau3sgR_F3a"
      }
    },
    {
      "cell_type": "code",
      "source": [
        "age=int(input(\"Enter Your Age :\"))\n",
        "gender=input(\"Enter Your gender M/F :\")\n",
        "work_day=int(input(\"Enter How many days you work :\"))\n",
        "\n",
        "if age >= 18 and age < 30 and gender == \"M\":\n",
        "  print(\"Daily Wages 700 and Number of days they work \",work_day,\"are\",(work_day*700))\n",
        "elif age >= 18 and age < 30 and gender == \"F\":\n",
        "  print(\"Daily Wages 750 and Number of days they work \",work_day,\"are\",(work_day*750))\n",
        "elif age >= 30 and age <= 40 and gender == \"M\":\n",
        "  print(\"Daily Wages 800 and Number of days they work \",work_day,\"are\",(work_day*800))\n",
        "elif age >= 30 and age <= 40 and gender == \"F\":\n",
        "  print(\"Daily Wages 850 and Number of days they work \",work_day,\"are\",(work_day*850))\n"
      ],
      "metadata": {
        "colab": {
          "base_uri": "https://localhost:8080/"
        },
        "id": "gzX2F7OY_HjC",
        "outputId": "2cede7f5-2dc5-4acc-f72c-35673ec1d79c"
      },
      "execution_count": null,
      "outputs": [
        {
          "output_type": "stream",
          "name": "stdout",
          "text": [
            "Enter Your Age :20\n",
            "Enter Your gender M/F :M\n",
            "Enter How many days you work :4\n",
            "Daily Wages 700 and Number of days they work  4 are 2800\n"
          ]
        }
      ]
    },
    {
      "cell_type": "code",
      "source": [
        "year=int(input(\"Enter a year :\"))\n",
        "\n",
        "if year%4==0:\n",
        "  print(\"Entered year is leap year\")\n",
        "else:\n",
        "    print(\"Entered year is not leap year\")\n"
      ],
      "metadata": {
        "id": "2pZexQweBe-q"
      },
      "execution_count": null,
      "outputs": []
    },
    {
      "cell_type": "markdown",
      "source": [
        "//Hard"
      ],
      "metadata": {
        "id": "DH1RSv3_EAFf"
      }
    },
    {
      "cell_type": "code",
      "source": [
        "days=int(input(\"Enter Number of days Book taken : \"))\n",
        "\n",
        "if days<=5 :\n",
        "  print(\"Till 5 days Charges :\",days*2)\n",
        "elif days >=6 and days <=10 :\n",
        "  print(\"6 to 10 days Charges :\",days*3)\n",
        "elif days >=11 and days <=15 :\n",
        "  print(\"11 to 15 days Charges :\",days*4)\n",
        "elif days >=15 :\n",
        "  print(\"After 15 days Charges :\",days*5)"
      ],
      "metadata": {
        "id": "uWlgzRCKEBOo",
        "colab": {
          "base_uri": "https://localhost:8080/"
        },
        "outputId": "4f0b26fb-3b91-446a-cd9a-b5a32f70529e"
      },
      "execution_count": 1,
      "outputs": [
        {
          "output_type": "stream",
          "name": "stdout",
          "text": [
            "Enter Number of days Book taken : 8\n",
            "6 to 10 days 24\n"
          ]
        }
      ]
    },
    {
      "cell_type": "code",
      "source": [
        "units=int(input(\"Enter Your Electric units  : \"))\n",
        "\n",
        "if units <= 100:\n",
        "        cost = 0\n",
        "        print(cost)\n",
        "elif units <= 300:\n",
        "        cost = 2 * (units - 100)\n",
        "        print(cost)\n",
        "else:\n",
        "        cost = 2 * 200 + 5 * (units - 300)\n",
        "        print(cost)"
      ],
      "metadata": {
        "colab": {
          "base_uri": "https://localhost:8080/"
        },
        "id": "9vGbgX2j3eAi",
        "outputId": "5afef168-2fe8-4155-c013-818fbe1ac7d9"
      },
      "execution_count": 4,
      "outputs": [
        {
          "output_type": "stream",
          "name": "stdout",
          "text": [
            "Enter Your Electric units  : 250\n",
            "300\n"
          ]
        }
      ]
    }
  ]
}