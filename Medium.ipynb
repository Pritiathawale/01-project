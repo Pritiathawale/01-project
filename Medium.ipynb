{
  "nbformat": 4,
  "nbformat_minor": 0,
  "metadata": {
    "colab": {
      "provenance": [],
      "authorship_tag": "ABX9TyOdJd4GKgndMtPibjwUFExm",
      "include_colab_link": true
    },
    "kernelspec": {
      "name": "python3",
      "display_name": "Python 3"
    },
    "language_info": {
      "name": "python"
    }
  },
  "cells": [
    {
      "cell_type": "markdown",
      "metadata": {
        "id": "view-in-github",
        "colab_type": "text"
      },
      "source": [
        "<a href=\"https://colab.research.google.com/github/Pritiathawale/01-project/blob/main/Medium.ipynb\" target=\"_parent\"><img src=\"https://colab.research.google.com/assets/colab-badge.svg\" alt=\"Open In Colab\"/></a>"
      ]
    },
    {
      "cell_type": "code",
      "execution_count": 1,
      "metadata": {
        "colab": {
          "base_uri": "https://localhost:8080/"
        },
        "id": "5TU1uuQqA_st",
        "outputId": "03f146a4-c53c-41a0-e438-4475ba6cc86b"
      },
      "outputs": [
        {
          "output_type": "stream",
          "name": "stdout",
          "text": [
            "Enter Your Name :priti\n",
            "Enter Your Surnameathawale\n",
            "pritiathawale\n"
          ]
        }
      ],
      "source": [
        "name=input(\"Enter Your Name :\")\n",
        "surname=input(\"Enter Your Surname:\")\n",
        "concat=name+surname\n",
        "print(concat)"
      ]
    },
    {
      "cell_type": "code",
      "source": [
        "birth_month=input(\"Enter Your Birth Month :\")\n",
        "birth_year=input(\"Enter Your Birth Year :\")\n",
        "length1=len(birth_month)\n",
        "length2=len(birth_year)\n",
        "print(birth_month ,\"length is : \" ,length1, \"and \", birth_year, \"Length is : \", length2)\n"
      ],
      "metadata": {
        "colab": {
          "base_uri": "https://localhost:8080/"
        },
        "id": "-KBnDBSMBhz2",
        "outputId": "1ed16b7a-6030-4d4d-f85e-45a66c88bfb0"
      },
      "execution_count": 2,
      "outputs": [
        {
          "output_type": "stream",
          "name": "stdout",
          "text": [
            "Enter Your Birth Month :10\n",
            "Enter Your Birth Year :2004\n",
            "10 length is :  2 and  2004 Length is :  4\n"
          ]
        }
      ]
    }
  ]
}